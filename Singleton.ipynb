{
  "nbformat": 4,
  "nbformat_minor": 0,
  "metadata": {
    "colab": {
      "name": "Singleton.ipynb",
      "provenance": [],
      "authorship_tag": "ABX9TyMA5N5luy9pNQgBiEtPNmFI",
      "include_colab_link": true
    },
    "kernelspec": {
      "name": "python3",
      "display_name": "Python 3"
    }
  },
  "cells": [
    {
      "cell_type": "markdown",
      "metadata": {
        "id": "view-in-github",
        "colab_type": "text"
      },
      "source": [
        "<a href=\"https://colab.research.google.com/github/alluriashokreddy/python-applications/blob/master/Singleton.ipynb\" target=\"_parent\"><img src=\"https://colab.research.google.com/assets/colab-badge.svg\" alt=\"Open In Colab\"/></a>"
      ]
    },
    {
      "cell_type": "markdown",
      "metadata": {
        "id": "yJGwxhBSTt3Q"
      },
      "source": [
        "Singleton Pattern"
      ]
    },
    {
      "cell_type": "code",
      "metadata": {
        "id": "fd49QCc8TqCY"
      },
      "source": [
        "from threading import RLock\r\n",
        "class SingletonMeta(type):\r\n",
        "  instances = {}\r\n",
        "  rlock = RLock()\r\n",
        "  def __call__(cls, *args, **kwargs):\r\n",
        "    with cls.rlock:\r\n",
        "      if cls not in cls.instances:\r\n",
        "        instance = super().__call__(*args, **kwargs)\r\n",
        "        cls.instances[cls] = instance\r\n",
        "    return cls.instances.get(cls, None)"
      ],
      "execution_count": 14,
      "outputs": []
    },
    {
      "cell_type": "code",
      "metadata": {
        "id": "USmTrgr6UNym"
      },
      "source": [
        "class DBConnection(metaclass=SingletonMeta):\r\n",
        "  def __init__(self):\r\n",
        "    print('initializaed')"
      ],
      "execution_count": 15,
      "outputs": []
    },
    {
      "cell_type": "code",
      "metadata": {
        "colab": {
          "base_uri": "https://localhost:8080/"
        },
        "id": "UnYxoiTMUY7n",
        "outputId": "82f00c11-0820-41ab-9ee6-77a8e6863b78"
      },
      "source": [
        "a = DBConnection()"
      ],
      "execution_count": 16,
      "outputs": [
        {
          "output_type": "stream",
          "text": [
            "initializaed\n"
          ],
          "name": "stdout"
        }
      ]
    },
    {
      "cell_type": "code",
      "metadata": {
        "id": "QIeBmedXUy0K"
      },
      "source": [
        "b = DBConnection()"
      ],
      "execution_count": 17,
      "outputs": []
    },
    {
      "cell_type": "code",
      "metadata": {
        "colab": {
          "base_uri": "https://localhost:8080/"
        },
        "id": "389MGYSzU0SS",
        "outputId": "4ec59efe-2720-4b0a-c791-cb08c24d79ee"
      },
      "source": [
        "id(a)"
      ],
      "execution_count": 18,
      "outputs": [
        {
          "output_type": "execute_result",
          "data": {
            "text/plain": [
              "2580633270344"
            ]
          },
          "metadata": {
            "tags": []
          },
          "execution_count": 18
        }
      ]
    },
    {
      "cell_type": "code",
      "metadata": {
        "colab": {
          "base_uri": "https://localhost:8080/"
        },
        "id": "ed7-nUaSU27L",
        "outputId": "efc44b52-4fc6-444d-f5a3-8319e7233ead"
      },
      "source": [
        "id(b)"
      ],
      "execution_count": 20,
      "outputs": [
        {
          "output_type": "execute_result",
          "data": {
            "text/plain": [
              "2580633270344"
            ]
          },
          "metadata": {
            "tags": []
          },
          "execution_count": 20
        }
      ]
    }
  ]
}