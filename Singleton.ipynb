{
  "nbformat": 4,
  "nbformat_minor": 0,
  "metadata": {
    "colab": {
      "name": "Singleton.ipynb",
      "provenance": [],
      "authorship_tag": "ABX9TyOuz3cxlNbMXDtZyw7mXu0v",
      "include_colab_link": true
    },
    "kernelspec": {
      "name": "python3",
      "display_name": "Python 3"
    }
  },
  "cells": [
    {
      "cell_type": "markdown",
      "metadata": {
        "id": "view-in-github",
        "colab_type": "text"
      },
      "source": [
        "<a href=\"https://colab.research.google.com/github/alluriashokreddy/python-applications/blob/master/Singleton.ipynb\" target=\"_parent\"><img src=\"https://colab.research.google.com/assets/colab-badge.svg\" alt=\"Open In Colab\"/></a>"
      ]
    },
    {
      "cell_type": "markdown",
      "metadata": {
        "id": "yJGwxhBSTt3Q"
      },
      "source": [
        "Singleton Pattern"
      ]
    },
    {
      "cell_type": "code",
      "metadata": {
        "id": "fd49QCc8TqCY"
      },
      "source": [
        "class SingletonMeta(type):\r\n",
        "  instances = {}\r\n",
        "  def __call__(cls, *args, **kwargs):\r\n",
        "    if cls not in cls.instances:\r\n",
        "      instance = super().__call__(*args, **kwargs)\r\n",
        "      cls.instances[cls] = instance\r\n",
        "    return cls.instances[cls]"
      ],
      "execution_count": 1,
      "outputs": []
    },
    {
      "cell_type": "code",
      "metadata": {
        "id": "USmTrgr6UNym"
      },
      "source": [
        "class DBConnection(metaclass=SingletonMeta):\r\n",
        "  def __init__(self):\r\n",
        "    print('initializaed')"
      ],
      "execution_count": 5,
      "outputs": []
    },
    {
      "cell_type": "code",
      "metadata": {
        "colab": {
          "base_uri": "https://localhost:8080/"
        },
        "id": "UnYxoiTMUY7n",
        "outputId": "9bf422e1-f726-42a0-b968-ce63a348264f"
      },
      "source": [
        "a = DBConnection()"
      ],
      "execution_count": 6,
      "outputs": [
        {
          "output_type": "stream",
          "text": [
            "initializaed\n"
          ],
          "name": "stdout"
        }
      ]
    },
    {
      "cell_type": "code",
      "metadata": {
        "id": "QIeBmedXUy0K"
      },
      "source": [
        "b = DBConnection()"
      ],
      "execution_count": 11,
      "outputs": []
    },
    {
      "cell_type": "code",
      "metadata": {
        "colab": {
          "base_uri": "https://localhost:8080/"
        },
        "id": "389MGYSzU0SS",
        "outputId": "aaffa2e7-2d2f-4e88-be82-5e567d334a6c"
      },
      "source": [
        "id(a)"
      ],
      "execution_count": 12,
      "outputs": [
        {
          "output_type": "execute_result",
          "data": {
            "text/plain": [
              "2580634909064"
            ]
          },
          "metadata": {
            "tags": []
          },
          "execution_count": 12
        }
      ]
    },
    {
      "cell_type": "code",
      "metadata": {
        "colab": {
          "base_uri": "https://localhost:8080/"
        },
        "id": "ed7-nUaSU27L",
        "outputId": "a840ec9f-652a-4300-d95c-a7debb569f59"
      },
      "source": [
        "id(B)"
      ],
      "execution_count": 13,
      "outputs": [
        {
          "output_type": "execute_result",
          "data": {
            "text/plain": [
              "2580634909064"
            ]
          },
          "metadata": {
            "tags": []
          },
          "execution_count": 13
        }
      ]
    },
    {
      "cell_type": "code",
      "metadata": {
        "id": "XsmprVaCU3hJ"
      },
      "source": [
        ""
      ],
      "execution_count": null,
      "outputs": []
    }
  ]
}