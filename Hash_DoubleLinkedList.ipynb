{
  "nbformat": 4,
  "nbformat_minor": 0,
  "metadata": {
    "colab": {
      "name": "Hash_DoubleLinkedList.ipynb",
      "provenance": [],
      "authorship_tag": "ABX9TyO3OYT0CKvzVq6+qG6kb9Tt",
      "include_colab_link": true
    },
    "kernelspec": {
      "name": "python3",
      "display_name": "Python 3"
    }
  },
  "cells": [
    {
      "cell_type": "markdown",
      "metadata": {
        "id": "view-in-github",
        "colab_type": "text"
      },
      "source": [
        "<a href=\"https://colab.research.google.com/github/alluriashokreddy/python-applications/blob/master/Hash_DoubleLinkedList.ipynb\" target=\"_parent\"><img src=\"https://colab.research.google.com/assets/colab-badge.svg\" alt=\"Open In Colab\"/></a>"
      ]
    },
    {
      "cell_type": "code",
      "metadata": {
        "id": "yefvENH2HHF6"
      },
      "source": [
        "class dll:\r\n",
        "  def __init__(self, key, val):\r\n",
        "    self.prev =  None\r\n",
        "    self.next = None\r\n",
        "    self.key = key\r\n",
        "    self.val = val\r\n",
        "  \r\n",
        "  def __lt__(self, obj):\r\n",
        "    return self.val < obj.val\r\n",
        "  \r\n",
        "  def __eq__(self, obj):\r\n",
        "    return self.val == obj.val\r\n",
        "  \r\n",
        "  def __gt__(self, obj):\r\n",
        "    return self.val > obj.val"
      ],
      "execution_count": 2,
      "outputs": []
    },
    {
      "cell_type": "code",
      "metadata": {
        "id": "P5vNMZgVHrRP"
      },
      "source": [
        "keys =['science', 'social', 'maths']"
      ],
      "execution_count": 3,
      "outputs": []
    },
    {
      "cell_type": "code",
      "metadata": {
        "id": "b530GS8LH8BE"
      },
      "source": [
        "values = [90, 80,95]"
      ],
      "execution_count": 4,
      "outputs": []
    },
    {
      "cell_type": "code",
      "metadata": {
        "id": "m2vWwdftIAry"
      },
      "source": [
        "head = None\r\n",
        "temp = None\r\n",
        "for key, value in zip(keys, values):\r\n",
        "  if head is None:\r\n",
        "    head = dll(key, value)\r\n",
        "    t1 = head\r\n",
        "  else:\r\n",
        "    t2 = dll(key, value)\r\n",
        "    t1.next = t2\r\n",
        "    t2.prev = t1\r\n",
        "    t1 = t1.next"
      ],
      "execution_count": 5,
      "outputs": []
    },
    {
      "cell_type": "code",
      "metadata": {
        "colab": {
          "base_uri": "https://localhost:8080/"
        },
        "id": "6p29Bh4sJL1m",
        "outputId": "1a5793a8-021e-4263-8b2a-ffd4a2686768"
      },
      "source": [
        "temp = head\r\n",
        "d =  {}\r\n",
        "while temp:\r\n",
        "  print(temp.key, temp.val)\r\n",
        "  d[temp.key] = temp\r\n",
        "  temp = temp.next"
      ],
      "execution_count": 6,
      "outputs": [
        {
          "output_type": "stream",
          "text": [
            "science 90\n",
            "social 80\n",
            "maths 95\n"
          ],
          "name": "stdout"
        }
      ]
    },
    {
      "cell_type": "code",
      "metadata": {
        "colab": {
          "base_uri": "https://localhost:8080/"
        },
        "id": "WqQQQv24JUu8",
        "outputId": "d9884fe1-16ee-4a75-e99f-3c2c60a2babe"
      },
      "source": [
        "for key, value in d.items():\r\n",
        "  print(f'key: {key}, value: {value.val}')"
      ],
      "execution_count": 7,
      "outputs": [
        {
          "output_type": "stream",
          "text": [
            "key: science, value: 90\n",
            "key: social, value: 80\n",
            "key: maths, value: 95\n"
          ],
          "name": "stdout"
        }
      ]
    },
    {
      "cell_type": "code",
      "metadata": {
        "id": "bi24Rcm3KHIB"
      },
      "source": [
        "temp = d['social']\r\n",
        "t1 = temp.prev\r\n",
        "t2 = temp.next\r\n",
        "t1.next = t2\r\n",
        "t2.prev = t1\r\n",
        "del temp"
      ],
      "execution_count": 8,
      "outputs": []
    },
    {
      "cell_type": "code",
      "metadata": {
        "colab": {
          "base_uri": "https://localhost:8080/"
        },
        "id": "uku2rQqFKajm",
        "outputId": "a1698172-337e-45b8-ba17-229fab02b9cd"
      },
      "source": [
        "temp = head\r\n",
        "while temp:\r\n",
        "  print(temp.key, temp.val)\r\n",
        "  temp = temp.next"
      ],
      "execution_count": 9,
      "outputs": [
        {
          "output_type": "stream",
          "text": [
            "science 90\n",
            "maths 95\n"
          ],
          "name": "stdout"
        }
      ]
    },
    {
      "cell_type": "code",
      "metadata": {
        "colab": {
          "base_uri": "https://localhost:8080/"
        },
        "id": "00oaCA33KpN4",
        "outputId": "6e9de293-255a-494e-a336-1442e6a03b88"
      },
      "source": [
        "for key, value in d.items():\r\n",
        "  print(key, value.val)"
      ],
      "execution_count": 11,
      "outputs": [
        {
          "output_type": "stream",
          "text": [
            "science 90\n",
            "social 80\n",
            "maths 95\n"
          ],
          "name": "stdout"
        }
      ]
    },
    {
      "cell_type": "code",
      "metadata": {
        "id": "T1bdEYPwKvNn"
      },
      "source": [
        "del d['social']"
      ],
      "execution_count": 13,
      "outputs": []
    },
    {
      "cell_type": "code",
      "metadata": {
        "id": "jBINxzA6K5Xv",
        "colab": {
          "base_uri": "https://localhost:8080/"
        },
        "outputId": "a6810129-93b4-4305-ae9d-9309c9b66e55"
      },
      "source": [
        "d"
      ],
      "execution_count": 14,
      "outputs": [
        {
          "output_type": "execute_result",
          "data": {
            "text/plain": [
              "{'science': <__main__.dll at 0x20eae432f08>,\n",
              " 'maths': <__main__.dll at 0x20eafee2348>}"
            ]
          },
          "metadata": {
            "tags": []
          },
          "execution_count": 14
        }
      ]
    },
    {
      "cell_type": "code",
      "metadata": {
        "id": "5JNOErvM6JFo"
      },
      "source": [
        ""
      ],
      "execution_count": null,
      "outputs": []
    }
  ]
}