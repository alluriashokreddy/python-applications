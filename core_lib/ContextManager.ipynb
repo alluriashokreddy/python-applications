{
  "nbformat": 4,
  "nbformat_minor": 0,
  "metadata": {
    "colab": {
      "name": "ContextManager.ipynb",
      "provenance": [],
      "authorship_tag": "ABX9TyPrhfsP89FsuJHSeiWxcD0w",
      "include_colab_link": true
    },
    "kernelspec": {
      "name": "python3",
      "display_name": "Python 3"
    }
  },
  "cells": [
    {
      "cell_type": "markdown",
      "metadata": {
        "id": "view-in-github",
        "colab_type": "text"
      },
      "source": [
        "<a href=\"https://colab.research.google.com/github/alluriashokreddy/python-applications/blob/master/core_lib/ContextManager.ipynb\" target=\"_parent\"><img src=\"https://colab.research.google.com/assets/colab-badge.svg\" alt=\"Open In Colab\"/></a>"
      ]
    },
    {
      "cell_type": "markdown",
      "metadata": {
        "id": "z9-oQuuyoyEG"
      },
      "source": [
        "Function based context manager\r\n"
      ]
    },
    {
      "cell_type": "code",
      "metadata": {
        "id": "rcXlA26reLhk"
      },
      "source": [
        "from contextlib import contextmanager"
      ],
      "execution_count": 1,
      "outputs": []
    },
    {
      "cell_type": "code",
      "metadata": {
        "id": "tmhfnL5eoNcA"
      },
      "source": [
        "@contextmanager\r\n",
        "def context_verify(a, b):\r\n",
        "  print(f'value is {a}')\r\n",
        "  yield 5\r\n",
        "  print(f'value is {b}')"
      ],
      "execution_count": 6,
      "outputs": []
    },
    {
      "cell_type": "code",
      "metadata": {
        "colab": {
          "base_uri": "https://localhost:8080/"
        },
        "id": "rJ-LqDnwoh_m",
        "outputId": "d61b1e54-310e-4b55-ef1d-63cfb296103a"
      },
      "source": [
        "with context_verify(10, 20) as c:\r\n",
        "  print(f'inside {c}')"
      ],
      "execution_count": 7,
      "outputs": [
        {
          "output_type": "stream",
          "text": [
            "value is 10\n",
            "inside 5\n",
            "value is 20\n"
          ],
          "name": "stdout"
        }
      ]
    },
    {
      "cell_type": "markdown",
      "metadata": {
        "id": "Dp0AyfJco5et"
      },
      "source": [
        "Class based context manager"
      ]
    },
    {
      "cell_type": "code",
      "metadata": {
        "id": "BH6SOEzSoorX"
      },
      "source": [
        "class Context_verify:\r\n",
        "\r\n",
        "  def __init__(self):\r\n",
        "    print('init')\r\n",
        "  \r\n",
        "  def __enter__(self):\r\n",
        "    print('context enter')\r\n",
        "    return self\r\n",
        "  \r\n",
        "  def __exit__(self, exc_type, exc_value, exc_traceback):\r\n",
        "    print('context exit')\r\n",
        "  \r\n",
        "  def display(self):\r\n",
        "    print('hurray getting accessed from context block')\r\n"
      ],
      "execution_count": 31,
      "outputs": []
    },
    {
      "cell_type": "code",
      "metadata": {
        "colab": {
          "base_uri": "https://localhost:8080/"
        },
        "id": "_SSKG62KpR-A",
        "outputId": "f600b383-8d0f-4058-ee2b-3f3fa52b68b7"
      },
      "source": [
        "with Context_verify() as c:\r\n",
        "  print('inside context block')\r\n",
        "  c.display()\r\n"
      ],
      "execution_count": 32,
      "outputs": [
        {
          "output_type": "stream",
          "text": [
            "init\n",
            "context enter\n",
            "inside context block\n",
            "hurray getting accessed from context block\n",
            "context exit\n"
          ],
          "name": "stdout"
        }
      ]
    },
    {
      "cell_type": "code",
      "metadata": {
        "id": "mEfTBEWBptp-"
      },
      "source": [
        ""
      ],
      "execution_count": null,
      "outputs": []
    }
  ]
}