{
  "nbformat": 4,
  "nbformat_minor": 0,
  "metadata": {
    "kernelspec": {
      "display_name": "ml_env",
      "language": "python",
      "name": "ml_env"
    },
    "language_info": {
      "codemirror_mode": {
        "name": "ipython",
        "version": 3
      },
      "file_extension": ".py",
      "mimetype": "text/x-python",
      "name": "python",
      "nbconvert_exporter": "python",
      "pygments_lexer": "ipython3",
      "version": "3.6.8"
    },
    "colab": {
      "name": "Collections.ipynb",
      "provenance": [],
      "toc_visible": true
    }
  },
  "cells": [
    {
      "cell_type": "markdown",
      "metadata": {
        "id": "Gsp009tqtxb7"
      },
      "source": [
        "#### set example"
      ]
    },
    {
      "cell_type": "markdown",
      "metadata": {
        "id": "rZj_LiD7uSiK"
      },
      "source": [
        "Set collection example. Its **mutable**, **unordered**, \r\n",
        "**don't allow duplicates**, **non-contiguous storage**"
      ]
    },
    {
      "cell_type": "code",
      "metadata": {
        "collapsed": true,
        "id": "SGSXFfPdtxcD"
      },
      "source": [
        "a = set()"
      ],
      "execution_count": 2,
      "outputs": []
    },
    {
      "cell_type": "code",
      "metadata": {
        "collapsed": true,
        "id": "s_9-NEhXtxcE"
      },
      "source": [
        "a.add('ashok')\n",
        "\n",
        "a.add('mounika')\n",
        "\n",
        "a.add('ashok')"
      ],
      "execution_count": 3,
      "outputs": []
    },
    {
      "cell_type": "code",
      "metadata": {
        "id": "i4WUcBWTtxcF",
        "outputId": "24f9c7e5-5da4-4cc8-8b44-be51ce559c8d",
        "colab": {
          "base_uri": "https://localhost:8080/"
        }
      },
      "source": [
        "print(a)"
      ],
      "execution_count": 4,
      "outputs": [
        {
          "output_type": "stream",
          "text": [
            "{'mounika', 'ashok'}\n"
          ],
          "name": "stdout"
        }
      ]
    },
    {
      "cell_type": "code",
      "metadata": {
        "collapsed": true,
        "id": "dZZ_UqfktxcG"
      },
      "source": [
        "a = {'ashok'}"
      ],
      "execution_count": 5,
      "outputs": []
    },
    {
      "cell_type": "code",
      "metadata": {
        "id": "TkA61XB8urLD",
        "outputId": "a8dce7a7-131c-4d19-874b-6eff946c28fc",
        "colab": {
          "base_uri": "https://localhost:8080/"
        }
      },
      "source": [
        "type(a)"
      ],
      "execution_count": 6,
      "outputs": [
        {
          "output_type": "execute_result",
          "data": {
            "text/plain": [
              "set"
            ]
          },
          "metadata": {
            "tags": []
          },
          "execution_count": 6
        }
      ]
    }
  ]
}