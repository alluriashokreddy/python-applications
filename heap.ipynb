{
  "nbformat": 4,
  "nbformat_minor": 0,
  "metadata": {
    "colab": {
      "name": "heap.ipynb",
      "provenance": [],
      "authorship_tag": "ABX9TyMvnfMb+S9pVg5U/rJqEBs0",
      "include_colab_link": true
    },
    "kernelspec": {
      "name": "python3",
      "display_name": "Python 3"
    }
  },
  "cells": [
    {
      "cell_type": "markdown",
      "metadata": {
        "id": "view-in-github",
        "colab_type": "text"
      },
      "source": [
        "<a href=\"https://colab.research.google.com/github/alluriashokreddy/python-applications/blob/master/heap.ipynb\" target=\"_parent\"><img src=\"https://colab.research.google.com/assets/colab-badge.svg\" alt=\"Open In Colab\"/></a>"
      ]
    },
    {
      "cell_type": "code",
      "metadata": {
        "id": "EE5PAxFy7q7-"
      },
      "source": [
        "import heapq"
      ],
      "execution_count": 94,
      "outputs": []
    },
    {
      "cell_type": "code",
      "metadata": {
        "id": "GDdUQleG70uF"
      },
      "source": [
        "a = [10, 2, 5, 6, 8]"
      ],
      "execution_count": 95,
      "outputs": []
    },
    {
      "cell_type": "code",
      "metadata": {
        "id": "KdNiAGGZ7-i2"
      },
      "source": [
        "heapq.heapify(a)"
      ],
      "execution_count": 96,
      "outputs": []
    },
    {
      "cell_type": "code",
      "metadata": {
        "colab": {
          "base_uri": "https://localhost:8080/"
        },
        "id": "f3HcP8i58Cp9",
        "outputId": "fcb2e1be-6102-4dc6-f381-e0d510a895ce"
      },
      "source": [
        "print(a)"
      ],
      "execution_count": 97,
      "outputs": [
        {
          "output_type": "stream",
          "text": [
            "[2, 6, 5, 10, 8]\n"
          ],
          "name": "stdout"
        }
      ]
    },
    {
      "cell_type": "code",
      "metadata": {
        "id": "8tjZvZll8DrT"
      },
      "source": [
        "s = []\r\n",
        "for i in range(len(a)):\r\n",
        "  s.append(heapq.heappop(a))"
      ],
      "execution_count": 98,
      "outputs": []
    },
    {
      "cell_type": "code",
      "metadata": {
        "colab": {
          "base_uri": "https://localhost:8080/"
        },
        "id": "VfWedQWx8IAb",
        "outputId": "1a6a3c80-9fa5-45ad-d2b0-d8a3509cccee"
      },
      "source": [
        "print(s)"
      ],
      "execution_count": 99,
      "outputs": [
        {
          "output_type": "stream",
          "text": [
            "[2, 5, 6, 8, 10]\n"
          ],
          "name": "stdout"
        }
      ]
    },
    {
      "cell_type": "code",
      "metadata": {
        "id": "Lk6rFdq0XfUS"
      },
      "source": [
        "s = [1,5,6,7,3,2,4]"
      ],
      "execution_count": 100,
      "outputs": []
    },
    {
      "cell_type": "code",
      "metadata": {
        "id": "a8Sge9tRkhAP"
      },
      "source": [
        "heapq.heapify(s)"
      ],
      "execution_count": 101,
      "outputs": []
    },
    {
      "cell_type": "code",
      "metadata": {
        "colab": {
          "base_uri": "https://localhost:8080/"
        },
        "id": "Si05poY-yD02",
        "outputId": "9197d7b7-2ddd-4896-cd10-02c1d4d53667"
      },
      "source": [
        "s"
      ],
      "execution_count": 102,
      "outputs": [
        {
          "output_type": "execute_result",
          "data": {
            "text/plain": [
              "[1, 3, 2, 7, 5, 6, 4]"
            ]
          },
          "metadata": {
            "tags": []
          },
          "execution_count": 102
        }
      ]
    },
    {
      "cell_type": "code",
      "metadata": {
        "id": "akXucQW8y4fT"
      },
      "source": [
        "del s[s.index(2)]"
      ],
      "execution_count": 103,
      "outputs": []
    },
    {
      "cell_type": "code",
      "metadata": {
        "colab": {
          "base_uri": "https://localhost:8080/"
        },
        "id": "k85Ib5gmzcOT",
        "outputId": "a7bb3337-3dbf-48dd-be53-db820445ccc9"
      },
      "source": [
        "s"
      ],
      "execution_count": 104,
      "outputs": [
        {
          "output_type": "execute_result",
          "data": {
            "text/plain": [
              "[1, 3, 7, 5, 6, 4]"
            ]
          },
          "metadata": {
            "tags": []
          },
          "execution_count": 104
        }
      ]
    },
    {
      "cell_type": "code",
      "metadata": {
        "id": "52DdOXtPzc7i"
      },
      "source": [
        "def is_heap(a):\r\n",
        "  for i in range(len(a)//2):\r\n",
        "    if a[i] > a[2*i+1]:\r\n",
        "      return False\r\n",
        "    if 2*i+2 < len(a) and a[i] > a[2*i+2]:\r\n",
        "      return false\r\n",
        "  return True\r\n"
      ],
      "execution_count": 105,
      "outputs": []
    },
    {
      "cell_type": "code",
      "metadata": {
        "colab": {
          "base_uri": "https://localhost:8080/"
        },
        "id": "uxLHsska-AGj",
        "outputId": "8f69cfbc-7413-4617-fe40-d5959a30439f"
      },
      "source": [
        "is_heap(s)"
      ],
      "execution_count": 106,
      "outputs": [
        {
          "output_type": "execute_result",
          "data": {
            "text/plain": [
              "False"
            ]
          },
          "metadata": {
            "tags": []
          },
          "execution_count": 106
        }
      ]
    },
    {
      "cell_type": "code",
      "metadata": {
        "id": "31g1KWJZ-CcZ"
      },
      "source": [
        "s = [1,5,6,7,3,2,4]\r\n",
        "heapq.heapify(sorted)"
      ],
      "execution_count": 107,
      "outputs": []
    },
    {
      "cell_type": "code",
      "metadata": {
        "id": "UaEbhrQQ_kLz"
      },
      "source": [
        "ele = 2\r\n",
        "idx = s.index(ele)"
      ],
      "execution_count": 108,
      "outputs": []
    },
    {
      "cell_type": "code",
      "metadata": {
        "id": "Q4FlI-Nu_r5n"
      },
      "source": [
        "s[idx] = s[-1]\r\n",
        "del s[-1]"
      ],
      "execution_count": 109,
      "outputs": []
    },
    {
      "cell_type": "code",
      "metadata": {
        "id": "4tkptuK4Wmop"
      },
      "source": [
        "heapq._siftup(s,idx)\r\n",
        "heapq._shiftdown(s)"
      ],
      "execution_count": null,
      "outputs": []
    }
  ]
}