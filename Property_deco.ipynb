{
  "nbformat": 4,
  "nbformat_minor": 0,
  "metadata": {
    "colab": {
      "name": "Property_deco.ipynb",
      "provenance": [],
      "authorship_tag": "ABX9TyPdJrlkXw1HC7IlpNtxMq8K",
      "include_colab_link": true
    },
    "kernelspec": {
      "name": "python3",
      "display_name": "Python 3"
    }
  },
  "cells": [
    {
      "cell_type": "markdown",
      "metadata": {
        "id": "view-in-github",
        "colab_type": "text"
      },
      "source": [
        "<a href=\"https://colab.research.google.com/github/alluriashokreddy/python-applications/blob/master/Property_deco.ipynb\" target=\"_parent\"><img src=\"https://colab.research.google.com/assets/colab-badge.svg\" alt=\"Open In Colab\"/></a>"
      ]
    },
    {
      "cell_type": "markdown",
      "metadata": {
        "id": "dUIIDr2zJA4t"
      },
      "source": [
        "Property decorator of the Python cclasses"
      ]
    },
    {
      "cell_type": "code",
      "metadata": {
        "id": "U0PQb8TbFmRz"
      },
      "source": [
        "class temperature:\r\n",
        "  def __init__(self, x):\r\n",
        "    self.temperature = x\r\n",
        "  \r\n",
        "  @property\r\n",
        "  def temperature(self):\r\n",
        "    return self._temperature\r\n",
        "\r\n",
        "  @temperature.setter\r\n",
        "  def temperature(self, value):\r\n",
        "    self._temperature = value"
      ],
      "execution_count": null,
      "outputs": []
    },
    {
      "cell_type": "code",
      "metadata": {
        "colab": {
          "base_uri": "https://localhost:8080/"
        },
        "id": "HG8_HbrsIZCA",
        "outputId": "9db31920-c28d-4b6a-e2e4-ffd58633efb9"
      },
      "source": [
        "d = dummy(10)\r\n",
        "print(d.temperature)"
      ],
      "execution_count": null,
      "outputs": [
        {
          "output_type": "stream",
          "text": [
            "10\n"
          ],
          "name": "stdout"
        }
      ]
    }
  ]
}