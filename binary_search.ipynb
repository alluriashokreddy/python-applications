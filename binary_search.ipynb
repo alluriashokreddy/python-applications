{
  "nbformat": 4,
  "nbformat_minor": 0,
  "metadata": {
    "colab": {
      "name": "binary_search.ipynb",
      "provenance": [],
      "authorship_tag": "ABX9TyNnC6yqPt8octb/ySMJXaaV",
      "include_colab_link": true
    },
    "kernelspec": {
      "name": "python3",
      "display_name": "Python 3"
    }
  },
  "cells": [
    {
      "cell_type": "markdown",
      "metadata": {
        "id": "view-in-github",
        "colab_type": "text"
      },
      "source": [
        "<a href=\"https://colab.research.google.com/github/alluriashokreddy/python-applications/blob/master/binary_search.ipynb\" target=\"_parent\"><img src=\"https://colab.research.google.com/assets/colab-badge.svg\" alt=\"Open In Colab\"/></a>"
      ]
    },
    {
      "cell_type": "markdown",
      "metadata": {
        "id": "HHaPAUrHb3Au"
      },
      "source": [
        "Simple Binary Search"
      ]
    },
    {
      "cell_type": "code",
      "metadata": {
        "id": "lqvGNm1uYWi1"
      },
      "source": [
        "a = [1, 4, 7, 9, 15]"
      ],
      "execution_count": 1,
      "outputs": []
    },
    {
      "cell_type": "code",
      "metadata": {
        "id": "RFXeaiTnZPpS"
      },
      "source": [
        "def bs(a, sv):\r\n",
        "  start = 0\r\n",
        "  end = len(a)-1\r\n",
        "  while end >= start:\r\n",
        "    mid = (start + end)//2\r\n",
        "    if a[mid] == sv:\r\n",
        "      return mid\r\n",
        "    elif a[mid] > sv:\r\n",
        "      end = mid-1\r\n",
        "    else:\r\n",
        "      start = mid+1\r\n",
        "  return -1"
      ],
      "execution_count": 21,
      "outputs": []
    },
    {
      "cell_type": "code",
      "metadata": {
        "colab": {
          "base_uri": "https://localhost:8080/"
        },
        "id": "CIt19DpsaZBY",
        "outputId": "74cebc04-653f-427e-cda0-fae6a53bf489"
      },
      "source": [
        "bs([1,3,4,5,6], 6)"
      ],
      "execution_count": 28,
      "outputs": [
        {
          "output_type": "execute_result",
          "data": {
            "text/plain": [
              "4"
            ]
          },
          "metadata": {
            "tags": []
          },
          "execution_count": 28
        }
      ]
    },
    {
      "cell_type": "markdown",
      "metadata": {
        "id": "jwkV0RHaeZ14"
      },
      "source": [
        "Repetetive Binary Search"
      ]
    },
    {
      "cell_type": "code",
      "metadata": {
        "id": "g0aWcmObfPKN"
      },
      "source": [
        "def bs_repeat(a, sv):\r\n",
        "  start = 0\r\n",
        "  end = len(a)-1\r\n",
        "  while end >= start:\r\n",
        "    mid = (start + end)//2\r\n",
        "    if a[mid] == sv:\r\n",
        "      if a[mid-1]<sv:\r\n",
        "        return mid\r\n",
        "      else:\r\n",
        "        end = mid\r\n",
        "    elif a[mid] > sv:\r\n",
        "      end = mid-1\r\n",
        "    else:\r\n",
        "      start = mid+1\r\n",
        "  return -1"
      ],
      "execution_count": 31,
      "outputs": []
    },
    {
      "cell_type": "code",
      "metadata": {
        "colab": {
          "base_uri": "https://localhost:8080/"
        },
        "id": "bzgISLyAgNkS",
        "outputId": "d2689c03-13a1-4c82-8217-49bd00994f16"
      },
      "source": [
        "bs_repeat([1,1,2,2,3,4], 2)"
      ],
      "execution_count": 36,
      "outputs": [
        {
          "output_type": "execute_result",
          "data": {
            "text/plain": [
              "2"
            ]
          },
          "metadata": {
            "tags": []
          },
          "execution_count": 36
        }
      ]
    },
    {
      "cell_type": "code",
      "metadata": {
        "id": "VYLNxQeOgXbs"
      },
      "source": [
        ""
      ],
      "execution_count": null,
      "outputs": []
    }
  ]
}