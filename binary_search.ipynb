{
  "nbformat": 4,
  "nbformat_minor": 0,
  "metadata": {
    "colab": {
      "name": "binary_search.ipynb",
      "provenance": [],
      "collapsed_sections": [],
      "authorship_tag": "ABX9TyNwDc3OfO8FGktcRI5N2sz0",
      "include_colab_link": true
    },
    "kernelspec": {
      "name": "python3",
      "display_name": "Python 3"
    }
  },
  "cells": [
    {
      "cell_type": "markdown",
      "metadata": {
        "id": "view-in-github",
        "colab_type": "text"
      },
      "source": [
        "<a href=\"https://colab.research.google.com/github/alluriashokreddy/python-applications/blob/master/binary_search.ipynb\" target=\"_parent\"><img src=\"https://colab.research.google.com/assets/colab-badge.svg\" alt=\"Open In Colab\"/></a>"
      ]
    },
    {
      "cell_type": "markdown",
      "metadata": {
        "id": "HHaPAUrHb3Au"
      },
      "source": [
        "Simple Binary Search"
      ]
    },
    {
      "cell_type": "code",
      "metadata": {
        "id": "lqvGNm1uYWi1"
      },
      "source": [
        "a = [1, 4, 7, 9, 15]"
      ],
      "execution_count": 1,
      "outputs": []
    },
    {
      "cell_type": "code",
      "metadata": {
        "id": "RFXeaiTnZPpS"
      },
      "source": [
        "def bs(a, sv):\r\n",
        "  start = 0\r\n",
        "  end = len(a)-1\r\n",
        "  while end >= start:\r\n",
        "    mid = (start + end)//2\r\n",
        "    if a[mid] == sv:\r\n",
        "      return mid\r\n",
        "    elif a[mid] > sv:\r\n",
        "      end = mid-1\r\n",
        "    else:\r\n",
        "      start = mid+1\r\n",
        "  return -1"
      ],
      "execution_count": 21,
      "outputs": []
    },
    {
      "cell_type": "code",
      "metadata": {
        "colab": {
          "base_uri": "https://localhost:8080/"
        },
        "id": "CIt19DpsaZBY",
        "outputId": "1c3ba9e4-024a-4642-a8cd-6cd567c409fe"
      },
      "source": [
        "bs([1,3,4,5,6], 8)"
      ],
      "execution_count": 37,
      "outputs": [
        {
          "output_type": "execute_result",
          "data": {
            "text/plain": [
              "-1"
            ]
          },
          "metadata": {
            "tags": []
          },
          "execution_count": 37
        }
      ]
    },
    {
      "cell_type": "markdown",
      "metadata": {
        "id": "jwkV0RHaeZ14"
      },
      "source": [
        "Repetetive Binary Search"
      ]
    },
    {
      "cell_type": "code",
      "metadata": {
        "id": "g0aWcmObfPKN"
      },
      "source": [
        "def bs_repeat(a, sv):\r\n",
        "  start = 0\r\n",
        "  end = len(a)-1\r\n",
        "  while end >= start:\r\n",
        "    mid = (start + end)//2\r\n",
        "    if a[mid] == sv:\r\n",
        "      if a[mid-1]<sv:\r\n",
        "        return mid\r\n",
        "      else:\r\n",
        "        end = mid\r\n",
        "    elif a[mid] > sv:\r\n",
        "      end = mid-1\r\n",
        "    else:\r\n",
        "      start = mid+1\r\n",
        "  return -1"
      ],
      "execution_count": 31,
      "outputs": []
    },
    {
      "cell_type": "code",
      "metadata": {
        "colab": {
          "base_uri": "https://localhost:8080/"
        },
        "id": "bzgISLyAgNkS",
        "outputId": "d2689c03-13a1-4c82-8217-49bd00994f16"
      },
      "source": [
        "bs_repeat([1,1,2,2,3,4], 2)"
      ],
      "execution_count": 36,
      "outputs": [
        {
          "output_type": "execute_result",
          "data": {
            "text/plain": [
              "2"
            ]
          },
          "metadata": {
            "tags": []
          },
          "execution_count": 36
        }
      ]
    },
    {
      "cell_type": "markdown",
      "metadata": {
        "id": "OASbMEzzrwqN"
      },
      "source": [
        "Bitonic Array Maximum"
      ]
    },
    {
      "cell_type": "code",
      "metadata": {
        "id": "2VnjPMLHryY2"
      },
      "source": [
        "def find_max_in_bitonic_array(arr):\r\n",
        "  start, end = 0, len(arr) - 1\r\n",
        "  while start < end:\r\n",
        "    mid = start + (end - start) // 2\r\n",
        "    if arr[mid] > arr[mid + 1]:\r\n",
        "      end = mid\r\n",
        "    else:\r\n",
        "      start = mid + 1\r\n",
        "\r\n",
        "  # at the end of the while loop, 'start == end'\r\n",
        "  return arr[start]"
      ],
      "execution_count": 39,
      "outputs": []
    },
    {
      "cell_type": "code",
      "metadata": {
        "colab": {
          "base_uri": "https://localhost:8080/"
        },
        "id": "RGyXuiZhsIb2",
        "outputId": "d7d3a7e2-8820-437c-9f2a-4898eade9889"
      },
      "source": [
        "find_max_in_bitonic_array([1, 3, 8, 12, 4, 2])"
      ],
      "execution_count": 40,
      "outputs": [
        {
          "output_type": "execute_result",
          "data": {
            "text/plain": [
              "12"
            ]
          },
          "metadata": {
            "tags": []
          },
          "execution_count": 40
        }
      ]
    }
  ]
}