{
  "nbformat": 4,
  "nbformat_minor": 0,
  "metadata": {
    "colab": {
      "name": "bit_manipulator.ipynb",
      "provenance": [],
      "collapsed_sections": [],
      "authorship_tag": "ABX9TyNXNiJxb9LVTx5TnEC+BqeE",
      "include_colab_link": true
    },
    "kernelspec": {
      "name": "python3",
      "display_name": "Python 3"
    }
  },
  "cells": [
    {
      "cell_type": "markdown",
      "metadata": {
        "id": "view-in-github",
        "colab_type": "text"
      },
      "source": [
        "<a href=\"https://colab.research.google.com/github/alluriashokreddy/python-applications/blob/master/bit_manipulator.ipynb\" target=\"_parent\"><img src=\"https://colab.research.google.com/assets/colab-badge.svg\" alt=\"Open In Colab\"/></a>"
      ]
    },
    {
      "cell_type": "markdown",
      "metadata": {
        "id": "gWoZa73SoOyH"
      },
      "source": [
        "**Bit operation to find two numbers which are present just once**\r\n"
      ]
    },
    {
      "cell_type": "code",
      "metadata": {
        "id": "wmrukiSDsqKL"
      },
      "source": [
        "a  = [1, 1, 3, 4, 5, 6, 3, 5, 7, 7]"
      ],
      "execution_count": 9,
      "outputs": []
    },
    {
      "cell_type": "code",
      "metadata": {
        "colab": {
          "base_uri": "https://localhost:8080/"
        },
        "id": "zjC1TcdIg_TN",
        "outputId": "3d5c1f2c-a985-4598-c03b-4e4a52d26d1d"
      },
      "source": [
        "set_bit = 0\r\n",
        "num1xnum2 = 0\r\n",
        "for each in a:\r\n",
        "  num1xnum2 = each ^ num1xnum2\r\n",
        "print(num1xnum2)"
      ],
      "execution_count": 10,
      "outputs": [
        {
          "output_type": "stream",
          "text": [
            "2\n"
          ],
          "name": "stdout"
        }
      ]
    },
    {
      "cell_type": "code",
      "metadata": {
        "id": "BENPCvxKhq_K"
      },
      "source": [
        "import pdb\r\n",
        "check_bit = 1\r\n",
        "while True:\r\n",
        "  # Disabling break point \r\n",
        "  # pdb.set_trace() \r\n",
        "  if check_bit & num1xnum2 != 0:\r\n",
        "    break\r\n",
        "  check_bit = check_bit << 1"
      ],
      "execution_count": 16,
      "outputs": []
    },
    {
      "cell_type": "code",
      "metadata": {
        "colab": {
          "base_uri": "https://localhost:8080/"
        },
        "id": "yVaBxo6sjFgE",
        "outputId": "1fd02b1e-03e5-4995-9f84-6749ef5982e7"
      },
      "source": [
        "check_bit"
      ],
      "execution_count": 17,
      "outputs": [
        {
          "output_type": "execute_result",
          "data": {
            "text/plain": [
              "2"
            ]
          },
          "metadata": {
            "tags": []
          },
          "execution_count": 17
        }
      ]
    },
    {
      "cell_type": "code",
      "metadata": {
        "id": "UitDAUgajHPl"
      },
      "source": [
        "num1 = 0\r\n",
        "num2 = 0\r\n",
        "\r\n",
        "for each in a:\r\n",
        "  if each & check_bit == 0:\r\n",
        "    num1 = num1^each\r\n",
        "  else:\r\n",
        "    num2 = num2^each"
      ],
      "execution_count": 21,
      "outputs": []
    },
    {
      "cell_type": "code",
      "metadata": {
        "colab": {
          "base_uri": "https://localhost:8080/"
        },
        "id": "RQGtAUTnnxul",
        "outputId": "0cb85b36-19ac-432b-c28d-5fbd1a13c473"
      },
      "source": [
        "num1"
      ],
      "execution_count": 22,
      "outputs": [
        {
          "output_type": "execute_result",
          "data": {
            "text/plain": [
              "4"
            ]
          },
          "metadata": {
            "tags": []
          },
          "execution_count": 22
        }
      ]
    },
    {
      "cell_type": "code",
      "metadata": {
        "colab": {
          "base_uri": "https://localhost:8080/"
        },
        "id": "Kfa1NIWlny0h",
        "outputId": "fe2c5729-1a95-49cf-b380-2d1c537c9f20"
      },
      "source": [
        "num2"
      ],
      "execution_count": 23,
      "outputs": [
        {
          "output_type": "execute_result",
          "data": {
            "text/plain": [
              "6"
            ]
          },
          "metadata": {
            "tags": []
          },
          "execution_count": 23
        }
      ]
    },
    {
      "cell_type": "code",
      "metadata": {
        "id": "cNsNL3vWnzZx"
      },
      "source": [
        ""
      ],
      "execution_count": null,
      "outputs": []
    }
  ]
}