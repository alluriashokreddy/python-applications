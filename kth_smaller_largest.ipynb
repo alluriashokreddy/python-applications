{
  "nbformat": 4,
  "nbformat_minor": 0,
  "metadata": {
    "colab": {
      "name": "kth_smaller/largest.ipynb",
      "provenance": [],
      "authorship_tag": "ABX9TyMe3u8IuFoNkFbgDtyprl8q",
      "include_colab_link": true
    },
    "kernelspec": {
      "name": "python3",
      "display_name": "Python 3"
    }
  },
  "cells": [
    {
      "cell_type": "markdown",
      "metadata": {
        "id": "view-in-github",
        "colab_type": "text"
      },
      "source": [
        "<a href=\"https://colab.research.google.com/github/alluriashokreddy/python-applications/blob/master/kth_smaller_largest.ipynb\" target=\"_parent\"><img src=\"https://colab.research.google.com/assets/colab-badge.svg\" alt=\"Open In Colab\"/></a>"
      ]
    },
    {
      "cell_type": "markdown",
      "metadata": {
        "id": "fnrQwu4uFSVM"
      },
      "source": [
        "Find kth smallest element in an array"
      ]
    },
    {
      "cell_type": "code",
      "metadata": {
        "id": "dOLo8VyaAHaC"
      },
      "source": [
        "import heapq"
      ],
      "execution_count": 35,
      "outputs": []
    },
    {
      "cell_type": "code",
      "metadata": {
        "id": "CH0VlGYDA0gq"
      },
      "source": [
        "a = [2,2,4,5,1,3,12,8,9]"
      ],
      "execution_count": 36,
      "outputs": []
    },
    {
      "cell_type": "code",
      "metadata": {
        "id": "Ef4tquDdA58L"
      },
      "source": [
        "k = 3"
      ],
      "execution_count": 37,
      "outputs": []
    },
    {
      "cell_type": "code",
      "metadata": {
        "id": "V72MjU1gBE0a"
      },
      "source": [
        "a_k = list(map(lambda x: -x, a[:3]))"
      ],
      "execution_count": 38,
      "outputs": []
    },
    {
      "cell_type": "code",
      "metadata": {
        "colab": {
          "base_uri": "https://localhost:8080/"
        },
        "id": "_K0QPTjFB1U8",
        "outputId": "c1ec1799-93aa-47a1-d766-589b3dbac5e4"
      },
      "source": [
        "print(a_k)"
      ],
      "execution_count": 39,
      "outputs": [
        {
          "output_type": "stream",
          "text": [
            "[-2, -2, -4]\n"
          ],
          "name": "stdout"
        }
      ]
    },
    {
      "cell_type": "code",
      "metadata": {
        "id": "NoYUVk0aBKFN"
      },
      "source": [
        "heapq.heapify(a_k)"
      ],
      "execution_count": 40,
      "outputs": []
    },
    {
      "cell_type": "code",
      "metadata": {
        "colab": {
          "base_uri": "https://localhost:8080/"
        },
        "id": "3j8FVBaOB6n4",
        "outputId": "16a5344b-9f47-4de5-bef6-eb6444540d1c"
      },
      "source": [
        "print(a_k)"
      ],
      "execution_count": 41,
      "outputs": [
        {
          "output_type": "stream",
          "text": [
            "[-4, -2, -2]\n"
          ],
          "name": "stdout"
        }
      ]
    },
    {
      "cell_type": "code",
      "metadata": {
        "id": "7IWfm1Z0BLgZ"
      },
      "source": [
        "for ele in a[3:]:\r\n",
        "  if ele < -a_k[0]:\r\n",
        "    heapq.heappop(a_k)\r\n",
        "    heapq.heappush(a_k, -ele)"
      ],
      "execution_count": 42,
      "outputs": []
    },
    {
      "cell_type": "code",
      "metadata": {
        "colab": {
          "base_uri": "https://localhost:8080/"
        },
        "id": "tyJG-VSNBmM5",
        "outputId": "c8b6be44-7828-45a5-b873-9f203d0918f6"
      },
      "source": [
        "for ele in a_k:\r\n",
        "  print(-ele, end=' ')"
      ],
      "execution_count": 45,
      "outputs": [
        {
          "output_type": "stream",
          "text": [
            "2 2 1 "
          ],
          "name": "stdout"
        }
      ]
    },
    {
      "cell_type": "code",
      "metadata": {
        "colab": {
          "base_uri": "https://localhost:8080/"
        },
        "id": "gURCoH3tBroE",
        "outputId": "702e4224-a6da-4eaf-951b-aad1d69b6804"
      },
      "source": [
        "-a_k[0]"
      ],
      "execution_count": 47,
      "outputs": [
        {
          "output_type": "execute_result",
          "data": {
            "text/plain": [
              "2"
            ]
          },
          "metadata": {
            "tags": []
          },
          "execution_count": 47
        }
      ]
    },
    {
      "cell_type": "markdown",
      "metadata": {
        "id": "oAsxeRGFFc48"
      },
      "source": [
        "Find kth closest point to origin"
      ]
    },
    {
      "cell_type": "code",
      "metadata": {
        "id": "r7ypwWdcFaYS"
      },
      "source": [
        "import math\r\n",
        "class Point:\r\n",
        "\r\n",
        "  def __init__(self, x, y):\r\n",
        "    self.x = x\r\n",
        "    self.y = y\r\n",
        "\r\n",
        "  @property\r\n",
        "  def distance(self):\r\n",
        "    # eucledian distance from origin (0, 0)\r\n",
        "    return math.sqrt(pow((self.x-0),2) + pow((self.y-0),2))\r\n",
        "  \r\n",
        "  def __lt__(self, rt_value):\r\n",
        "    return self.distance < rt_value.distance\r\n",
        "  \r\n",
        "  def __str__(self):\r\n",
        "    return f'x: {self.x}, y: {self.y}'"
      ],
      "execution_count": 71,
      "outputs": []
    },
    {
      "cell_type": "code",
      "metadata": {
        "id": "H4ZMsu3mIcsD"
      },
      "source": [
        "a = [Point(2,3), Point(3,4), Point(0, 1), Point(1,2)]"
      ],
      "execution_count": 72,
      "outputs": []
    },
    {
      "cell_type": "code",
      "metadata": {
        "id": "Sj7aK2aiKTZV"
      },
      "source": [
        "k = 2"
      ],
      "execution_count": 73,
      "outputs": []
    },
    {
      "cell_type": "code",
      "metadata": {
        "id": "xkAXo6RgKY7i"
      },
      "source": [
        "a_k = a[:2]"
      ],
      "execution_count": 74,
      "outputs": []
    },
    {
      "cell_type": "code",
      "metadata": {
        "id": "euAOBKLBK7gm"
      },
      "source": [
        "heapq.heapify(a_k)"
      ],
      "execution_count": 75,
      "outputs": []
    },
    {
      "cell_type": "code",
      "metadata": {
        "id": "US0I4sTSK4BK"
      },
      "source": [
        "for ele in a[2:]:\r\n",
        "  if ele < a[0]:\r\n",
        "    heapq.heappop(a_k)\r\n",
        "    heapq.heappush(a_k, ele)"
      ],
      "execution_count": 76,
      "outputs": []
    },
    {
      "cell_type": "code",
      "metadata": {
        "colab": {
          "base_uri": "https://localhost:8080/"
        },
        "id": "fiN7ebacLKt_",
        "outputId": "b963aa5c-2d24-4813-a341-0af5459aaafb"
      },
      "source": [
        "print(a_k[0])"
      ],
      "execution_count": 77,
      "outputs": [
        {
          "output_type": "stream",
          "text": [
            "x: 1, y: 2\n"
          ],
          "name": "stdout"
        }
      ]
    },
    {
      "cell_type": "code",
      "metadata": {
        "id": "2DzWvZ7GLTff"
      },
      "source": [
        ""
      ],
      "execution_count": null,
      "outputs": []
    }
  ]
}