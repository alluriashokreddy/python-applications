{
  "nbformat": 4,
  "nbformat_minor": 0,
  "metadata": {
    "colab": {
      "name": "graph_ds.ipynb",
      "provenance": [],
      "collapsed_sections": [],
      "authorship_tag": "ABX9TyNQnyBNX7QYPGtSK/lUEHIt",
      "include_colab_link": true
    },
    "kernelspec": {
      "name": "python3",
      "display_name": "Python 3"
    }
  },
  "cells": [
    {
      "cell_type": "markdown",
      "metadata": {
        "id": "view-in-github",
        "colab_type": "text"
      },
      "source": [
        "<a href=\"https://colab.research.google.com/github/alluriashokreddy/python-applications/blob/master/graph_ds.ipynb\" target=\"_parent\"><img src=\"https://colab.research.google.com/assets/colab-badge.svg\" alt=\"Open In Colab\"/></a>"
      ]
    },
    {
      "cell_type": "markdown",
      "metadata": {
        "id": "kfDyT3HSqinE"
      },
      "source": [
        "Topological sort"
      ]
    },
    {
      "cell_type": "code",
      "metadata": {
        "id": "EsWwhfN5r633"
      },
      "source": [
        "from collections import deque\r\n",
        "def topological_sort(vertices, edges):\r\n",
        "  graph = {idx:[] for idx in range(vertices)}\r\n",
        "  in_count = {idx:0 for idx in range(vertices)}\r\n",
        "  for first, second in edges:\r\n",
        "    graph[first].append(second)\r\n",
        "    in_count[second] += 1\r\n",
        "  \r\n",
        "  q = deque()\r\n",
        "  for v, count in in_count.items():\r\n",
        "    if count == 0:\r\n",
        "      q.append(v)\r\n",
        "  \r\n",
        "  result = []\r\n",
        "  \r\n",
        "  while q:\r\n",
        "    v = q.popleft()\r\n",
        "    result.append(v)\r\n",
        "    for ele in graph[v]:\r\n",
        "      in_count[ele] -= 1\r\n",
        "      if in_count[ele] == 0:\r\n",
        "        q.append(ele)\r\n",
        "\r\n",
        "  if len(result) != vertices:\r\n",
        "    print('Cyclic graph')\r\n",
        "    return -1\r\n",
        "  return result\r\n"
      ],
      "execution_count": 38,
      "outputs": []
    },
    {
      "cell_type": "code",
      "metadata": {
        "colab": {
          "base_uri": "https://localhost:8080/"
        },
        "id": "KnurOyRQt7vU",
        "outputId": "6b7d4709-7f7d-4e00-a793-d25e9f3a537f"
      },
      "source": [
        "print(topological_sort(4, [[3, 2], [3, 0], [2, 0], [2, 1]]))"
      ],
      "execution_count": 39,
      "outputs": [
        {
          "output_type": "stream",
          "text": [
            "[3, 2, 0, 1]\n"
          ],
          "name": "stdout"
        }
      ]
    },
    {
      "cell_type": "code",
      "metadata": {
        "id": "GP8YmIlYuYsg"
      },
      "source": [
        ""
      ],
      "execution_count": null,
      "outputs": []
    }
  ]
}