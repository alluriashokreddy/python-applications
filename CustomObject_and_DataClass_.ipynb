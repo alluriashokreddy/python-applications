{
  "nbformat": 4,
  "nbformat_minor": 0,
  "metadata": {
    "colab": {
      "name": "CustomObject_and_DataClass .ipynb",
      "provenance": [],
      "authorship_tag": "ABX9TyNy0KFXzvl2wLq5G/wkO7h7",
      "include_colab_link": true
    },
    "kernelspec": {
      "name": "python3",
      "display_name": "Python 3"
    }
  },
  "cells": [
    {
      "cell_type": "markdown",
      "metadata": {
        "id": "view-in-github",
        "colab_type": "text"
      },
      "source": [
        "<a href=\"https://colab.research.google.com/github/alluriashokreddy/python-applications/blob/master/CustomObject_and_DataClass_.ipynb\" target=\"_parent\"><img src=\"https://colab.research.google.com/assets/colab-badge.svg\" alt=\"Open In Colab\"/></a>"
      ]
    },
    {
      "cell_type": "code",
      "metadata": {
        "id": "Zms_ZCi77MOJ"
      },
      "source": [
        "class Dictionary:\r\n",
        "  def __init__(self, key, val):\r\n",
        "    self.key = key\r\n",
        "    self.val = val\r\n",
        "  \r\n",
        "  def __lt__(self, obj):\r\n",
        "    return self.val < obj.val\r\n",
        "  \r\n",
        "  def __eq__(self, obj):\r\n",
        "    return self.val == obj.val\r\n",
        "  \r\n",
        "  def __gt__(self, obj):\r\n",
        "    return self.val > obj.val"
      ],
      "execution_count": 2,
      "outputs": []
    },
    {
      "cell_type": "code",
      "metadata": {
        "id": "cRpin0E47NZG"
      },
      "source": [
        "l = [Dictionary('science', 80), Dictionary('maths', 95), Dictionary('social', 90)]"
      ],
      "execution_count": 4,
      "outputs": []
    },
    {
      "cell_type": "code",
      "metadata": {
        "colab": {
          "base_uri": "https://localhost:8080/"
        },
        "id": "4f5in4x47hBU",
        "outputId": "d30274c7-191f-44a2-c3fb-c6e604153f8e"
      },
      "source": [
        "l"
      ],
      "execution_count": 5,
      "outputs": [
        {
          "output_type": "execute_result",
          "data": {
            "text/plain": [
              "[<__main__.Dictionary at 0x7f97dae37e80>,\n",
              " <__main__.Dictionary at 0x7f97dae37a90>,\n",
              " <__main__.Dictionary at 0x7f97dae373c8>]"
            ]
          },
          "metadata": {
            "tags": []
          },
          "execution_count": 5
        }
      ]
    },
    {
      "cell_type": "code",
      "metadata": {
        "colab": {
          "base_uri": "https://localhost:8080/"
        },
        "id": "2mHgdK8Z7kUX",
        "outputId": "046e8624-e102-45e7-af4e-ec5b2331fe4a"
      },
      "source": [
        "sorted(l)"
      ],
      "execution_count": 6,
      "outputs": [
        {
          "output_type": "execute_result",
          "data": {
            "text/plain": [
              "[<__main__.Dictionary at 0x7f97dae37e80>,\n",
              " <__main__.Dictionary at 0x7f97dae373c8>,\n",
              " <__main__.Dictionary at 0x7f97dae37a90>]"
            ]
          },
          "metadata": {
            "tags": []
          },
          "execution_count": 6
        }
      ]
    },
    {
      "cell_type": "code",
      "metadata": {
        "colab": {
          "base_uri": "https://localhost:8080/"
        },
        "id": "w3oghCDt7neq",
        "outputId": "d36206f2-46c5-4230-a5e8-df9b887b66d4"
      },
      "source": [
        "for each in l:\r\n",
        "  print(each.key, each.val)"
      ],
      "execution_count": 8,
      "outputs": [
        {
          "output_type": "stream",
          "text": [
            "science 80\n",
            "maths 95\n",
            "social 90\n"
          ],
          "name": "stdout"
        }
      ]
    },
    {
      "cell_type": "code",
      "metadata": {
        "colab": {
          "base_uri": "https://localhost:8080/"
        },
        "id": "wpYP82Hc7wXb",
        "outputId": "d468b7d9-7ae2-47ac-85fc-2e6afc3e5823"
      },
      "source": [
        "for each in sorted(l):\r\n",
        "  print(each.key, each.val)"
      ],
      "execution_count": 9,
      "outputs": [
        {
          "output_type": "stream",
          "text": [
            "science 80\n",
            "social 90\n",
            "maths 95\n"
          ],
          "name": "stdout"
        }
      ]
    },
    {
      "cell_type": "code",
      "metadata": {
        "id": "ELb6Y1Na73Rj"
      },
      "source": [
        "from dataclasses import dataclass, field\r\n",
        "\r\n",
        "@dataclass(order=True)\r\n",
        "class Dict:\r\n",
        "  val:int\r\n",
        "  key:str"
      ],
      "execution_count": 1,
      "outputs": []
    },
    {
      "cell_type": "code",
      "metadata": {
        "id": "akUQorNB8Q7z"
      },
      "source": [
        "l = [Dict(80, 'science'), Dict(95, 'maths'), Dict(90, 'social')]"
      ],
      "execution_count": 2,
      "outputs": []
    },
    {
      "cell_type": "code",
      "metadata": {
        "colab": {
          "base_uri": "https://localhost:8080/"
        },
        "id": "EObxTN1w8c5P",
        "outputId": "5a9282a1-423e-43c9-cb1f-7eff2af05c31"
      },
      "source": [
        "print(l)"
      ],
      "execution_count": 3,
      "outputs": [
        {
          "output_type": "stream",
          "text": [
            "[Dict(val=80, key='science'), Dict(val=95, key='maths'), Dict(val=90, key='social')]\n"
          ],
          "name": "stdout"
        }
      ]
    },
    {
      "cell_type": "code",
      "metadata": {
        "colab": {
          "base_uri": "https://localhost:8080/"
        },
        "id": "aCjgHS8N8eDJ",
        "outputId": "77193cb7-e30e-49a1-b118-f4457e299f19"
      },
      "source": [
        "print(sorted(l))"
      ],
      "execution_count": 4,
      "outputs": [
        {
          "output_type": "stream",
          "text": [
            "[Dict(val=80, key='science'), Dict(val=90, key='social'), Dict(val=95, key='maths')]\n"
          ],
          "name": "stdout"
        }
      ]
    },
    {
      "cell_type": "code",
      "metadata": {
        "id": "xzV9KSrf8mh3"
      },
      "source": [
        ""
      ],
      "execution_count": null,
      "outputs": []
    }
  ]
}